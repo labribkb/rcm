{
 "cells": [
  {
   "cell_type": "code",
   "execution_count": 8,
   "metadata": {},
   "outputs": [],
   "source": [
    "import numpy as np\n",
    "import math\n",
    "rng = np.random.default_rng()"
   ]
  },
  {
   "cell_type": "code",
   "execution_count": 9,
   "metadata": {},
   "outputs": [],
   "source": [
    "class ConfMat:\n",
    "    def __init__(self, nb_classes=10, density = 0.5, min_success=0): #min_success in [0, 1]\n",
    "        self.nbClasses = nb_classes\n",
    "        self.samplesByClass = 1000\n",
    "        self.minSuccess = int(max(min(min_success, 1) * self.samplesByClass, 1))\n",
    "        self.matrix = np.zeros((self.nbClasses, self.nbClasses))\n",
    "        self.density = density # density=1: all cells are non-0, density=0: all cells are 0 (cells=non-diag)\n",
    "        \n",
    "    \n",
    "    def density2nbCellsToFill(self,):\n",
    "        return math.ceil(self.density * self.nbClasses * (self.nbClasses-1))\n",
    "    \n",
    "    \n",
    "    def p(self, tolist=True):\n",
    "        if tolist:\n",
    "            print(self.matrix.tolist())\n",
    "        else:\n",
    "            print(self.matrix)\n",
    "        \n",
    "        \n",
    "    def getMatrix(self,):\n",
    "        return np.asarray(self.matrix)\n",
    "        \n",
    "        \n",
    "    def randNumbers2Cells(self, randomNbList):\n",
    "        res = []\n",
    "        for rn in randomNbList:\n",
    "            line = rn // (self.nbClasses-1)\n",
    "            theorCol = rn - line*(self.nbClasses-1)\n",
    "            if theorCol >= line:\n",
    "                res.append((line, theorCol+1))\n",
    "            else:\n",
    "                res.append((line, theorCol))\n",
    "            \n",
    "        cl = []\n",
    "        for classNum in range(self.nbClasses):\n",
    "            cl.append([])\n",
    "            \n",
    "        for line, col in res:\n",
    "            cl[line].append(col)\n",
    "        \n",
    "        return cl\n",
    "    \n",
    "    \n",
    "    def build(self,):\n",
    "        self.matrix = np.zeros((self.nbClasses, self.nbClasses))\n",
    "        # Fill up the diagonal\n",
    "        for i in range(self.nbClasses):\n",
    "            self.matrix[i,i] = self.samplesByClass\n",
    "        \n",
    "        # Chose cells to fill\n",
    "        nbCellsToFill = self.density2nbCellsToFill()\n",
    "        highBound = self.nbClasses * (self.nbClasses-1)\n",
    "        numbers = rng.choice(highBound, size=nbCellsToFill, replace=False)\n",
    "        coordsList = self.randNumbers2Cells(numbers)\n",
    "        \n",
    "        for line, allCols in enumerate(coordsList):\n",
    "            if len(allCols) > 0:\n",
    "                sumRemoved = 0\n",
    "                nbToRemove = np.random.randint(len(allCols), self.samplesByClass - self.minSuccess)\n",
    "                self.matrix[line, line] -= nbToRemove\n",
    "                for col in range(len(allCols)-1):\n",
    "                    realNbPerCell = np.random.randint(1, nbToRemove - sumRemoved - (len(allCols)-col))\n",
    "                    sumRemoved += realNbPerCell\n",
    "                    self.matrix[line, allCols[col]] += realNbPerCell\n",
    "                self.matrix[line, allCols[-1]] += (nbToRemove-sumRemoved)\n",
    "                \n",
    "        return self.matrix"
   ]
  },
  {
   "cell_type": "code",
   "execution_count": 10,
   "metadata": {},
   "outputs": [
    {
     "name": "stdout",
     "output_type": "stream",
     "text": [
      "[[322.0, 271.0, 58.0, 0.0, 73.0, 3.0, 0.0, 17.0, 252.0, 4.0], [116.0, 357.0, 161.0, 0.0, 215.0, 23.0, 0.0, 22.0, 0.0, 106.0], [6.0, 0.0, 947.0, 10.0, 0.0, 24.0, 1.0, 0.0, 12.0, 0.0], [0.0, 1.0, 0.0, 420.0, 0.0, 13.0, 36.0, 373.0, 154.0, 3.0], [0.0, 3.0, 0.0, 3.0, 987.0, 2.0, 1.0, 0.0, 2.0, 2.0], [6.0, 213.0, 10.0, 1.0, 4.0, 527.0, 0.0, 1.0, 107.0, 131.0], [0.0, 71.0, 1.0, 23.0, 0.0, 8.0, 859.0, 30.0, 5.0, 3.0], [26.0, 0.0, 0.0, 4.0, 0.0, 1.0, 0.0, 801.0, 164.0, 4.0], [1.0, 1.0, 0.0, 0.0, 3.0, 3.0, 7.0, 0.0, 984.0, 1.0], [7.0, 1.0, 1.0, 1.0, 0.0, 0.0, 65.0, 1.0, 3.0, 921.0]]\n"
     ]
    }
   ],
   "source": [
    "# Matrix A\n",
    "cm = ConfMat(nb_classes=10, density=0.7, min_success=0.3)\n",
    "cm.build()\n",
    "cm.p(tolist=True)"
   ]
  },
  {
   "cell_type": "code",
   "execution_count": 11,
   "metadata": {},
   "outputs": [
    {
     "name": "stdout",
     "output_type": "stream",
     "text": [
      "[[776.0, 1.0, 1.0, 0.0, 3.0, 196.0, 8.0, 2.0, 1.0, 12.0], [1.0, 313.0, 0.0, 680.0, 1.0, 0.0, 1.0, 0.0, 1.0, 3.0], [44.0, 0.0, 873.0, 45.0, 20.0, 0.0, 9.0, 3.0, 6.0, 0.0], [0.0, 20.0, 0.0, 873.0, 5.0, 83.0, 6.0, 8.0, 0.0, 5.0], [0.0, 26.0, 66.0, 0.0, 527.0, 315.0, 12.0, 45.0, 3.0, 6.0], [0.0, 0.0, 51.0, 0.0, 14.0, 782.0, 8.0, 0.0, 0.0, 145.0], [0.0, 16.0, 15.0, 11.0, 537.0, 8.0, 412.0, 0.0, 0.0, 1.0], [2.0, 90.0, 68.0, 3.0, 15.0, 0.0, 0.0, 820.0, 2.0, 0.0], [20.0, 38.0, 0.0, 12.0, 0.0, 2.0, 253.0, 4.0, 662.0, 9.0], [8.0, 313.0, 2.0, 0.0, 6.0, 0.0, 20.0, 1.0, 3.0, 647.0]]\n"
     ]
    }
   ],
   "source": [
    "# Matrix B\n",
    "cm.build()\n",
    "cm.p(tolist=True)"
   ]
  },
  {
   "cell_type": "code",
   "execution_count": null,
   "metadata": {},
   "outputs": [],
   "source": []
  }
 ],
 "metadata": {
  "kernelspec": {
   "display_name": "flask_env",
   "language": "python",
   "name": "python3"
  },
  "language_info": {
   "codemirror_mode": {
    "name": "ipython",
    "version": 3
   },
   "file_extension": ".py",
   "mimetype": "text/x-python",
   "name": "python",
   "nbconvert_exporter": "python",
   "pygments_lexer": "ipython3",
   "version": "3.6.9"
  }
 },
 "nbformat": 4,
 "nbformat_minor": 2
}
